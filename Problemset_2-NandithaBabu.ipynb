{
 "cells": [
  {
   "cell_type": "code",
   "execution_count": null,
   "id": "5ae577af",
   "metadata": {},
   "outputs": [],
   "source": [
    "QUESTION 1 : What value is displayed when the last expression (a) is evaluated? Explain youranswer by indicating what happens in every executed statement."
   ]
  },
  {
   "cell_type": "code",
   "execution_count": 1,
   "id": "1c4057c1",
   "metadata": {},
   "outputs": [],
   "source": [
    "def c(a):\n",
    "    return a+2"
   ]
  },
  {
   "cell_type": "code",
   "execution_count": 2,
   "id": "33d62678",
   "metadata": {},
   "outputs": [],
   "source": [
    "a=0\n",
    "def b():\n",
    "    global a\n",
    "    a=c(a)"
   ]
  },
  {
   "cell_type": "code",
   "execution_count": 3,
   "id": "d0b604d2",
   "metadata": {},
   "outputs": [],
   "source": [
    "b()"
   ]
  },
  {
   "cell_type": "code",
   "execution_count": 5,
   "id": "c825671a",
   "metadata": {},
   "outputs": [],
   "source": [
    "b()"
   ]
  },
  {
   "cell_type": "code",
   "execution_count": 7,
   "id": "9a37f99e",
   "metadata": {},
   "outputs": [],
   "source": [
    "b()"
   ]
  },
  {
   "cell_type": "code",
   "execution_count": null,
   "id": "57a29377",
   "metadata": {},
   "outputs": [],
   "source": [
    "1.The global variable a already holds the value 4, which was set in the previous step.\n",
    "\n",
    "2.When b() is called, it continues to reference the global variable a. Within the b() function, any reference to a uses the global a, not a local one.\n",
    "\n",
    "3.There is an assignment a = c(a) within b(), invoking the function c() and passing the global value of a as a parameter.\n",
    "\n",
    "4.Inside the c() function, it takes the parameter a and returns a + 2, effectively increasing the value of a by 2.\n",
    "\n",
    "5.Control then returns from c() to the assignment a = c(a) in b(), and the value returned by c() is stored in the global a.\n",
    "\n",
    "6.With the global a initially set to 4, after this execution, the value becomes 4 (the previous value) plus 2, resulting in a being set to 6."
   ]
  },
  {
   "cell_type": "code",
   "execution_count": 8,
   "id": "fe137db0",
   "metadata": {},
   "outputs": [
    {
     "data": {
      "text/plain": [
       "6"
      ]
     },
     "execution_count": 8,
     "metadata": {},
     "output_type": "execute_result"
    }
   ],
   "source": [
    "a"
   ]
  },
  {
   "cell_type": "code",
   "execution_count": null,
   "id": "2ad3b765",
   "metadata": {},
   "outputs": [],
   "source": [
    "QUESTION 2 : As shown above, if the file cannot be found by the interpreter or if it cannot be readas a text file, an exception will be raised. Modify function fileLength() so that afriendly message is printed instead:"
   ]
  },
  {
   "cell_type": "code",
   "execution_count": 13,
   "id": "8bd3db47",
   "metadata": {},
   "outputs": [
    {
     "name": "stdout",
     "output_type": "stream",
     "text": [
      "123\n",
      "File Filelengthabcd.txt is not found.\n"
     ]
    }
   ],
   "source": [
    "def fileLength(f_name):\n",
    "    try:\n",
    "        file = open(f_name)\n",
    "        values = file.read()\n",
    "        file.close()\n",
    "        print(len(values))\n",
    "    except FileNotFoundError:\n",
    "        print(f\"File {f_name} is not found.\")\n",
    "    \n",
    "        \n",
    "fileLength(r'Filelength.txt')\n",
    "fileLength(r'Filelengthabcd.txt')"
   ]
  },
  {
   "cell_type": "code",
   "execution_count": null,
   "id": "5f8745a4",
   "metadata": {},
   "outputs": [],
   "source": [
    "QUESTION 3 : (a) Write a class named Marsupialthat can be used as shown below"
   ]
  },
  {
   "cell_type": "code",
   "execution_count": 14,
   "id": "5a8389a0",
   "metadata": {},
   "outputs": [
    {
     "name": "stdout",
     "output_type": "stream",
     "text": [
      "['doll', 'firetruck', 'kitten']\n"
     ]
    }
   ],
   "source": [
    "class Marsupial: \n",
    "    def __init__(self):\n",
    "        self.pouch = []\n",
    "    \n",
    "    def pouch_contents(self):\n",
    "        return self.pouch\n",
    "    \n",
    "    def put_in_pouch(self, item):\n",
    "        self.pouch.append(item)\n",
    "        \n",
    "class Kangaroo(Marsupial):\n",
    "    def __init__(self, x=0, y=0):\n",
    "        super().__init__()\n",
    "        self.x = x\n",
    "        self.y = y\n",
    "\n",
    "    def jump(self, dx, dy):\n",
    "        self.x += dx\n",
    "        self.y += dy\n",
    "\n",
    "    def __str__(self):\n",
    "        return f\"I am a Kangaroo located at coordinates ({self.x},{self.y})\"\n",
    "\n",
    "    \n",
    "m = Marsupial()\n",
    "m.put_in_pouch('doll')\n",
    "m.put_in_pouch('firetruck')\n",
    "m.put_in_pouch('kitten')\n",
    "m.pouch_contents()\n",
    "print(m.pouch_contents())"
   ]
  },
  {
   "cell_type": "code",
   "execution_count": null,
   "id": "213baa26",
   "metadata": {},
   "outputs": [],
   "source": [
    "QUESTION 3 : (b) Now write a class named Kangaroo as a subclass of Marsupialthat inherits all theattributes of Marsupial and also:"
   ]
  },
  {
   "cell_type": "code",
   "execution_count": 15,
   "id": "ade7b623",
   "metadata": {},
   "outputs": [
    {
     "name": "stdout",
     "output_type": "stream",
     "text": [
      "I am a Kangaroo located at coordinates (0,0)\n",
      "['doll', 'firetruck', 'kitten']\n",
      "I am a Kangaroo located at coordinates (3,0)\n"
     ]
    }
   ],
   "source": [
    "k = Kangaroo(0,0)\n",
    "print(k)\n",
    "k.put_in_pouch('doll')\n",
    "k.put_in_pouch('firetruck')\n",
    "k.put_in_pouch('kitten')\n",
    "print(k.pouch_contents())\n",
    "k.jump(1,0)\n",
    "k.jump(1,0)\n",
    "k.jump(1,0)\n",
    "print(k)"
   ]
  },
  {
   "cell_type": "code",
   "execution_count": null,
   "id": "54bfcf34",
   "metadata": {},
   "outputs": [],
   "source": [
    "QUESTION 4 : Write function collatz() that takes a positive integer x as input and prints theCollatz sequence starting at x. A Collatz sequence is obtained by repeatedly applyingthis rule to the previous number x in the sequence : "
   ]
  },
  {
   "cell_type": "code",
   "execution_count": 16,
   "id": "cff13403",
   "metadata": {},
   "outputs": [
    {
     "name": "stdout",
     "output_type": "stream",
     "text": [
      "collatz(1)\n",
      "1\n",
      "collatz(10)\n",
      "10\n",
      "5\n",
      "16\n",
      "8\n",
      "4\n",
      "2\n",
      "1\n"
     ]
    }
   ],
   "source": [
    "def collatz(x):\n",
    "    print(x)\n",
    "    if x == 1:\n",
    "        return \n",
    "    elif x % 2 == 0:\n",
    "        x = x // 2\n",
    "        return collatz(x)\n",
    "    else:\n",
    "        x = 3 * x + 1\n",
    "        return collatz(x)\n",
    "\n",
    "print('collatz(1)')        \n",
    "collatz(1)\n",
    "print('collatz(10)')\n",
    "collatz(10)"
   ]
  },
  {
   "cell_type": "code",
   "execution_count": null,
   "id": "8691928e",
   "metadata": {},
   "outputs": [],
   "source": [
    "QUESTION 5 : Write a recursive method binary() that takes a non-negativeinteger n and prints the binary representation of integer n."
   ]
  },
  {
   "cell_type": "code",
   "execution_count": 20,
   "id": "e8f4d0ca",
   "metadata": {},
   "outputs": [
    {
     "name": "stdout",
     "output_type": "stream",
     "text": [
      "1001\n",
      "111"
     ]
    }
   ],
   "source": [
    "def binary(n):\n",
    "    if n <0: \n",
    "        print(\"Enter a non negative number\")\n",
    "    elif n==0:\n",
    "        return\n",
    "    else :\n",
    "        binary(n//2)\n",
    "    print(n%2,end='')\n",
    "\n",
    "binary(9)\n",
    "print()\n",
    "binary(7)"
   ]
  },
  {
   "cell_type": "code",
   "execution_count": null,
   "id": "c79fef78",
   "metadata": {},
   "outputs": [],
   "source": [
    "QUESTION 6 : Implement a class named HeadingParser that can be used to parse an HTMLdocument, and retrieve and print all the headings in the document. You shouldimplement your class as a subclass of HTMLParser, defined in Standard Librarymodule html.parser. When fed a string containing HTML code, your class should print the headings, one per line and in the order in which they appear in the document."
   ]
  },
  {
   "cell_type": "code",
   "execution_count": 21,
   "id": "ee21c2ca",
   "metadata": {},
   "outputs": [
    {
     "name": "stdout",
     "output_type": "stream",
     "text": [
      "W3C Mission\n",
      "  Principles\n"
     ]
    }
   ],
   "source": [
    "from html.parser import HTMLParser\n",
    "\n",
    "class HeadingParser(HTMLParser):\n",
    "    def __init__(self):\n",
    "        super().__init__()\n",
    "        self.headings = []  # Store headings\n",
    "        self.in_heading = False  # To track if we're inside a heading\n",
    "\n",
    "    def handle_starttag(self, tag, attrs):\n",
    "        if tag.startswith('h') and len(tag) == 2 and tag[1].isdigit():\n",
    "            self.in_heading = True\n",
    "            self.headings.append((int(tag[1]), \"\"))\n",
    "\n",
    "    def handle_data(self, data):\n",
    "        if self.in_heading:\n",
    "            if self.headings:\n",
    "                self.headings[-1] = (self.headings[-1][0], self.headings[-1][1] + data.strip())\n",
    "\n",
    "    def handle_endtag(self, tag):\n",
    "        if self.in_heading:\n",
    "            self.in_heading = False\n",
    "\n",
    "    def print_headings(self):\n",
    "        for level, text in self.headings:\n",
    "            indentation = \"  \" * (level - 1)  # Two spaces per indentation level\n",
    "            print(f\"{indentation}{text}\")\n",
    "\n",
    "if __name__ == \"__main__\":\n",
    "    # Test your HeadingParser class\n",
    "    infile = open('w3c.txt', 'r', encoding='utf-8')\n",
    "    content = infile.read()\n",
    "    infile.close()\n",
    "\n",
    "    hp = HeadingParser()\n",
    "    hp.feed(content)\n",
    "\n",
    "    hp.print_headings()"
   ]
  },
  {
   "cell_type": "code",
   "execution_count": null,
   "id": "9f1ee2ef",
   "metadata": {},
   "outputs": [],
   "source": [
    "QUESTION 7 : Implement recursive function webdir() that takes as input: a URL (as a string) and non-negative integers depth and indent. Your function should visit every webpage reachable from the starting URL web page in depth clicks or less, and printeach web page URL. As shown below, indentation, specified by indent, should be used to indicate the depth of a URL."
   ]
  },
  {
   "cell_type": "code",
   "execution_count": 36,
   "id": "8a965ec6",
   "metadata": {},
   "outputs": [
    {
     "name": "stdout",
     "output_type": "stream",
     "text": [
      "http://reed.cs.depaul.edu/lperkovic/csc242/\n",
      "  http://reed.cs.depaul.edu/lperkovic/csc242/homeworks/Winter2020/FinalPractice.html\n",
      "  http://reed.cs.depaul.edu/lperkovic/csc242/homeworks/Winter2020/FinalPractice2.html\n",
      "  http://reed.cs.depaul.edu/lperkovic/csc242/syllabus.html\n",
      "  https://d2l.depaul.edu\n",
      "  https://d2l.depaul.edu/\n",
      "  https://academics.depaul.edu/calendar/Pages/default.aspx\n",
      "  https://d2l.depaul.edu\n",
      "  https://www.python.org/\n",
      "  https://www.python.org/downloads/\n",
      "  https://wiki.python.org/moin/BeginnersGuide\n",
      "  https://wiki.python.org/moin/BeginnersGuide/NonProgrammers\n",
      "  https://bcs.wiley.com/he-bcs/Books?action=index&itemId=1118890949&bcsId=9532\n",
      "Error: 403 Client Error: Forbidden for url: https://www.acm.org/\n",
      "  https://www.garykessler.net/library/crypto.html\n",
      "  http://www.alanturing.net/\n",
      "  https://aitopics.org/search\n",
      "  https://www.sciencemuseum.org.uk/objects-and-stories/women-computing\n",
      "  https://www.w3schools.com/\n",
      "  https://icpc.global/\n",
      "Error: No connection adapters were found for 'mailto:lperkovic@cs.depaul.edu'\n",
      "  https://reed.cs.depaul.edu/lperkovic/\n",
      "  http://reed.cs.depaul.edu/lperkovic/csc242/lecture1/\n",
      "  http://reed.cs.depaul.edu/lperkovic/csc242/lecture2/\n",
      "  http://reed.cs.depaul.edu/lperkovic/csc242/lecture3/\n",
      "Error: 404 Client Error:  for url: http://reed.cs.depaul.edu/lperkovic/csc242/lectures/lecture4/Lecture4.ppt\n",
      "  http://reed.cs.depaul.edu/lperkovic/csc242/lecture4/\n",
      "Error: 404 Client Error:  for url: http://reed.cs.depaul.edu/lperkovic/csc242/lectures/lecture5/Lecture5.ppt\n",
      "  http://reed.cs.depaul.edu/lperkovic/csc242/lecture5/\n",
      "  http://reed.cs.depaul.edu/lperkovic/csc242/lecture6/\n",
      "  http://reed.cs.depaul.edu/lperkovic/csc242/lecture7/\n",
      "  http://reed.cs.depaul.edu/lperkovic/csc242/lecture8/\n",
      "  http://reed.cs.depaul.edu/lperkovic/csc242/lecture9/\n",
      "Error: 404 Client Error:  for url: http://reed.cs.depaul.edu/lperkovic/csc416/lectures/lecture9/Lecture9.html\n",
      "Error: 404 Client Error:  for url: http://reed.cs.depaul.edu/lperkovic/csc242/lecture10/\n",
      "  http://reed.cs.depaul.edu/lperkovic/csc242/homeworks/Homework1.html\n",
      "  http://reed.cs.depaul.edu/lperkovic/csc242/homeworks/Homework2.html\n",
      "Error: 404 Client Error:  for url: http://reed.cs.depaul.edu/lperkovic/csc242/homeworks/HomeworkSol.html\n",
      "  http://reed.cs.depaul.edu/lperkovic/csc242/homeworks/Homework3.html\n",
      "  http://reed.cs.depaul.edu/lperkovic/csc242/homeworks/Homework4.html\n",
      "  http://reed.cs.depaul.edu/lperkovic/csc242/homeworks/Homework5.html\n",
      "  http://reed.cs.depaul.edu/lperkovic/csc242/homeworks/Homework6.html\n",
      "  http://reed.cs.depaul.edu/lperkovic/csc242/homeworks/Homework7.html\n",
      "  http://reed.cs.depaul.edu/lperkovic/csc242/homeworks/Homework8.html\n"
     ]
    }
   ],
   "source": [
    "import requests\n",
    "from bs4 import BeautifulSoup\n",
    "from urllib.parse import urljoin\n",
    "\n",
    "def webdir(url, depth, indent):\n",
    "    if depth == 0:\n",
    "        return\n",
    "\n",
    "    try:\n",
    "        response = requests.get(url)\n",
    "        response.raise_for_status()\n",
    "    except requests.exceptions.RequestException as e:\n",
    "        print(f\"Error: {e}\")\n",
    "        return\n",
    "\n",
    "    soup = BeautifulSoup(response.text, 'html.parser')\n",
    "\n",
    "    # Print the current URL with appropriate indentation\n",
    "    print(\" \" * indent + url)\n",
    "\n",
    "    # Find and visit linked web pages\n",
    "    links = soup.find_all('a', href=True)\n",
    "    for link in links:\n",
    "        next_url = link['href']\n",
    "\n",
    "        # Resolve relative links to absolute URLs\n",
    "        next_url = urljoin(url, next_url)\n",
    "\n",
    "        webdir(next_url, depth - 1, indent + 2)\n",
    "\n",
    "# Example usage with the provided web page:\n",
    "webdir('http://reed.cs.depaul.edu/lperkovic/csc242/', 2, 0)"
   ]
  },
  {
   "cell_type": "code",
   "execution_count": null,
   "id": "9087766f",
   "metadata": {},
   "outputs": [],
   "source": [
    "QUESTION 8 : Write SQL queries on the below database table that return :"
   ]
  },
  {
   "cell_type": "code",
   "execution_count": null,
   "id": "e879b304",
   "metadata": {},
   "outputs": [],
   "source": [
    "a. SELECT Temperature FROM database_table;"
   ]
  },
  {
   "cell_type": "code",
   "execution_count": null,
   "id": "7846c123",
   "metadata": {},
   "outputs": [],
   "source": [
    "b. SELECT DISTINCT City FROM database_table;"
   ]
  },
  {
   "cell_type": "code",
   "execution_count": null,
   "id": "d9888e0a",
   "metadata": {},
   "outputs": [],
   "source": [
    "c. SELECT * FROM database_table WHERE Country = 'India';"
   ]
  },
  {
   "cell_type": "code",
   "execution_count": null,
   "id": "ff44be99",
   "metadata": {},
   "outputs": [],
   "source": [
    "d. SELECT * FROM database_table WHERE Season = 'Fall';"
   ]
  },
  {
   "cell_type": "code",
   "execution_count": null,
   "id": "c5f7c60a",
   "metadata": {},
   "outputs": [],
   "source": [
    "e. SELECT City, Country, Season FROM database_table GROUP BY City, Country, Season HAVING AVG(Rainfall) BETWEEN 200 AND 400;"
   ]
  },
  {
   "cell_type": "code",
   "execution_count": null,
   "id": "17e30328",
   "metadata": {},
   "outputs": [],
   "source": [
    "f. SELECT City, Country FROM database_table WHERE Season = 'Fall' AND AVG(Temperature) > 20 ORDER BY Temperature ASC;"
   ]
  },
  {
   "cell_type": "code",
   "execution_count": null,
   "id": "7875fe83",
   "metadata": {},
   "outputs": [],
   "source": [
    "g. SELECT SUM(Rainfall) AS Total_Rainfall_value FROM database_table WHERE City = 'Cairo';"
   ]
  },
  {
   "cell_type": "code",
   "execution_count": null,
   "id": "e62ebb8a",
   "metadata": {},
   "outputs": [],
   "source": [
    "h. SELECT Season, SUM(Rainfall) AS Total_Rainfall_rcorded FROM database_table GROUP BY Season;"
   ]
  },
  {
   "cell_type": "code",
   "execution_count": null,
   "id": "f61f8787",
   "metadata": {},
   "outputs": [],
   "source": [
    "QUESTION 9 : Suppose list words is defined as follows:>>> words = ['The', 'quick', 'brown', 'fox', 'jumps', 'over','the', 'lazy', 'dog'] Write list comprehension expressions that use list words and generate the following lists : "
   ]
  },
  {
   "cell_type": "code",
   "execution_count": 1,
   "id": "0e56c836",
   "metadata": {},
   "outputs": [
    {
     "name": "stdout",
     "output_type": "stream",
     "text": [
      "a> ['THE', 'QUICK', 'BROWN', 'FOX', 'JUMPS', 'OVER', 'THE', 'LAZY', 'DOG']\n",
      "b> ['the', 'quick', 'brown', 'fox', 'jumps', 'over', 'the', 'lazy', 'dog']\n",
      "c> [3, 5, 5, 3, 5, 4, 3, 4, 3]\n",
      "d> [['THE', 'the', 3], ['QUICK', 'quick', 5], ['BROWN', 'brown', 5], ['FOX', 'fox', 3], ['JUMPS', 'jumps', 5], ['OVER', 'over', 4], ['THE', 'the', 3], ['LAZY', 'lazy', 4], ['DOG', 'dog', 3]]\n",
      "e> ['quick', 'brown', 'jumps', 'over', 'lazy']\n"
     ]
    }
   ],
   "source": [
    "words = ['The', 'quick', 'brown', 'fox', 'jumps', 'over',\n",
    "'the', 'lazy', 'dog']\n",
    "\n",
    "print('a> ',end='')\n",
    "w_up=[word.upper() for word in words]\n",
    "print(w_up)\n",
    "\n",
    "print('b> ',end='')\n",
    "w_lo=[word.lower() for word in words]\n",
    "print(w_lo)\n",
    "\n",
    "print('c> ',end='')\n",
    "w_len=[len(word) for word in words]\n",
    "print(w_len)\n",
    "\n",
    "print('d> ',end='')\n",
    "w_ull=[[word.upper(),word.lower(),len(word)] for word in words]\n",
    "print(w_ull)\n",
    "\n",
    "print('e> ',end='')\n",
    "w_ull=[ word for word in words if len(word)>3]\n",
    "print(w_ull)"
   ]
  },
  {
   "cell_type": "code",
   "execution_count": null,
   "id": "53c3b572",
   "metadata": {},
   "outputs": [],
   "source": []
  }
 ],
 "metadata": {
  "kernelspec": {
   "display_name": "Python 3 (ipykernel)",
   "language": "python",
   "name": "python3"
  },
  "language_info": {
   "codemirror_mode": {
    "name": "ipython",
    "version": 3
   },
   "file_extension": ".py",
   "mimetype": "text/x-python",
   "name": "python",
   "nbconvert_exporter": "python",
   "pygments_lexer": "ipython3",
   "version": "3.11.5"
  }
 },
 "nbformat": 4,
 "nbformat_minor": 5
}
